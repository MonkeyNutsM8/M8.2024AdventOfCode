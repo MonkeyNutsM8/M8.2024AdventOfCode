{
 "cells": [
  {
   "cell_type": "markdown",
   "metadata": {},
   "source": [
    "# i am going to print something\n"
   ]
  },
  {
   "cell_type": "code",
   "execution_count": 7,
   "metadata": {},
   "outputs": [],
   "source": [
    "filename = \"D:/Projects/M8.CodeOfAdvent2024/data/01DayData/codeOfAdventCopySimple.csv\"\n",
    "# Uncomment the next line for a bigger dataset\n",
    "# filename = \"D:/Projects/M8.CodeOfAdvent2024/data/01DayData/codeOfAdventCopy.csv\"\n",
    "# Uncomment the final line for the real dataset\n",
    "# filename = \"D:/Projects/M8.CodeOfAdvent2024/data/01DayData/codeOfAdvent.csv\""
   ]
  },
  {
   "cell_type": "code",
   "execution_count": 12,
   "metadata": {},
   "outputs": [
    {
     "name": "stdout",
     "output_type": "stream",
     "text": [
      "Content:\n",
      "85215   94333\n",
      "24582   34558\n"
     ]
    }
   ],
   "source": [
    "with open(filename, 'r') as file:\n",
    "    content = file.read()\n",
    "    print(\"Content:\")\n",
    "    print(content)"
   ]
  },
  {
   "cell_type": "code",
   "execution_count": 31,
   "metadata": {},
   "outputs": [
    {
     "name": "stdout",
     "output_type": "stream",
     "text": [
      "['85215', '94333']\n",
      "85215\n",
      "list0:  ['85215']\n",
      "['24582', '34558']\n",
      "24582\n",
      "list0:  ['85215', '24582']\n"
     ]
    }
   ],
   "source": [
    "list0=[]\n",
    "list1=[]\n",
    "\n",
    "\n",
    "with open(filename, 'r') as file:\n",
    "    for line in file:\n",
    "        linelist=line.split()\n",
    "        print(linelist)\n",
    "        print(linelist[0])\n",
    "        list0.append(linelist[0])\n",
    "\n",
    "\n",
    "\n",
    "        print(\"list0: \",list0)"
   ]
  }
 ],
 "metadata": {
  "kernelspec": {
   "display_name": "base",
   "language": "python",
   "name": "python3"
  },
  "language_info": {
   "codemirror_mode": {
    "name": "ipython",
    "version": 3
   },
   "file_extension": ".py",
   "mimetype": "text/x-python",
   "name": "python",
   "nbconvert_exporter": "python",
   "pygments_lexer": "ipython3",
   "version": "3.12.7"
  }
 },
 "nbformat": 4,
 "nbformat_minor": 2
}
